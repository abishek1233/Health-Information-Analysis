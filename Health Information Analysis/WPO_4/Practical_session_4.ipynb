{
 "cells": [
  {
   "cell_type": "markdown",
   "metadata": {
    "id": "O-C3efP37ZM7"
   },
   "source": [
    "\n",
    "## Data Analytics in Health Care and Connected Care/Health Information Systems\n",
    " *Practical Session IV: Data Analytics in Healthcare and Connected Care/Health  Information Systems - standards in electronic medical records (EMR)*\n",
    "\n",
    "---\n",
    "---\n",
    "The main aims of this practical session are to make you: (a) understand the importance of having standards in EMR; (b) explore how standards are used in practise in EMR. One of the group members must submit the completed notebook of the second practical session in Canvas by April 5th, 23:59:59 (GMT+1).\n",
    "\n",
    "---\n",
    "\n",
    "\n",
    "---\n",
    "\n",
    "*Lecturer/s: Bart Jansen (bjansen@etrovub.be),  Jef Vandemeulebroucke (jefvdmb@etrovub.be), Nikolaos Deligiannis (ndeligia@etrovub.be)*\n",
    "\n",
    "*Teaching assistant/s: Joris Wuts(jwuts@etrovub.be), Jasabanta Patro (jpatro@etrovub.be), Redona Brahimetaj (rbrahime@etrovub.be)*\n",
    "\n",
    "\n"
   ]
  },
  {
   "cell_type": "code",
   "execution_count": 1,
   "metadata": {
    "id": "QTwXQCNqO6Ko"
   },
   "outputs": [],
   "source": [
    "student1_full_name = str(input('Enter your full name: '))\n",
    "student1_id = int(input('Enter your student ID: '))\n",
    "student2_full_name = str(input('Enter your full name: '))\n",
    "student2_id = int(input('Enter your student ID: '))"
   ]
  },
  {
   "cell_type": "markdown",
   "metadata": {
    "id": "shsxuGT3O39l"
   },
   "source": [
    "---\n",
    "---\n",
    "# Health Informatics Standards\n",
    "---\n",
    "\n",
    "---\n",
    "\n",
    "\n",
    "  In [[1]](https://link.springer.com/chapter/10.1007/978-3-030-58740-6_6), health information standards and standards development organizations are introduced; insights into the relationship between standards and practice are listed; conformance and relevance to practice are also covered from an international perspective. Based on [[1]](https://link.springer.com/chapter/10.1007/978-3-030-58740-6_6) and the course slides, you should answer the following questions:\n",
    "\n",
    "\n",
    "*   What is the definition of health informatics (HI) standards and what are the general purposes of them?\n",
    "*   What is one of the greatest challenge in the HI standards world?\n",
    "*   According to you, what are some of the challenges that the widespread use of ICT in healthcare brings/will bring? \n",
    "*   List some similarities (with short explanations if neeeded) between [snomed-CT](https://www.snomed.org/snomed-ct/why-snomed-ct) and [hl7](https://www.hl7.org/about/index.cfm?ref=nav). \n",
    "\n",
    "\n",
    "\n",
    "---\n",
    "---"
   ]
  },
  {
   "source": [
    "\n",
    "\n",
    "*   Answer for question 1:\n",
    " Document that offers rules, guidelines, or characteristics for practices or their outcomes in the field of health information and communications technology, as determined by evidence and consensus, and authorized by a recognized body.The main purpose being supporting interoperability and guiding safe and efficient HI practice are the two key objectives. The ‘functional use' of standards, on the other hand, is perhaps the most important, we use standards to direct what we do and to measure conformance.\n",
    "\n",
    "*   Answer for question 2: \n",
    "The creation of an international, open-access HI framework faces two major challenges. To begin with, they are international and open access, as their name implies. To begin with, cooperation inside national boundaries is difficult enough, let alone outside them. Especially if there is a language barrier to overcome. Some people may be overwhelmed by the complexity of this project. Furthermore, the majority of the work is performed by volunteers, which can restrict the number of specialized specialists available as well as the rate at which things will advance. This is a significant challenge, particularly given how quickly technology is evolving. In addition, we must recognise the challenge of developing accessible HI documents in which caregivers recognize the system's importance and are committed to maintaining expectations. It must be incorporated into all caregivers' workflows, which isn't always the case, which is why defined guidelines are often disregarded.\n",
    "\n",
    "*   Answer for question 3: \n",
    "In addition to the problems already listed, such as large-scale connectivity and interoperability, we must also consider the question of security. The privacy and protection of information is becoming an extremely large issue as more data becomes available, which can almost certainly be obtained with the aid of new emerging applications, etc.This will have to be discussed when the HI requirements are introduced and will need to be revised on a daily basis, at a rate that is expected to surpass the existing rate.\n",
    "\n",
    "*   Answer for question 4: \n",
    "While their primary roles vary, both the snowmed-CT and the HL7 guidelines seek to standardize HI procedures. Snowmed-CT attempts primarily to standardize medical terminology, while HL7 guidelines primarily strive to standardize HI documentation and clinic-to-clinic correspondence. It is obvious, however, that these two are inextricably linked; neither will prosper without the other.They are also members of the JIC for Global Health Informatics Standardization, a recognised HI standards organization. They all operate on consensus-driven principles, and although snomed-CT updates approximately twice a year, the HL7 volunteer community meets approximately once every three months. Both are exceedingly rare.This is most likely attributed to the fact that all organizations are non-profits with the intention of achieving this open-access patient records norm.\n",
    "\n"
   ],
   "cell_type": "markdown",
   "metadata": {
    "id": "KONMXaLXWAfj"
   }
  },
  {
   "cell_type": "markdown",
   "metadata": {
    "id": "EEe4Bz6bWyU4"
   },
   "source": [
    "---\n",
    "---\n",
    "# Snomed CT Terminology\n",
    "---\n",
    "\n",
    "---\n",
    "\n",
    "\n",
    ">  In this part of the exercise, you should browse and explore [SNOMED International SNOMED CT Browser](https://browser.ihtsdotools.org/?) (Belgian Edition). The browser (provided by SNOMED International to anyone for reference purposes) has been implemented as part of development within the SNOMED International Open Tooling Framework, by the SNOMED International and its development partners.\n",
    "\n",
    "\n",
    "*   Using the snomed ct browser, find out and list what are the SNOMED-CT top level hierarchy concepts for which information can be encoded. \n",
    "*   Despite the fact that snomed CT is a reference terminology of clinical terms, there is heterogenity in the final codes you might endup having for the same problem.  Convince yourself this can be the case (use an example in snomed ct browser) in many situations and explain why this can happen. \n",
    "*   Explore independently all the other functionalities of the browser such us: 'Details', 'Diagrams', 'Expressions' etc. \n",
    "*   What are the pros and cons of snomed-CT? \n",
    "---\n",
    "---"
   ]
  },
  {
   "source": [
    "\n",
    "\n",
    "1.   Answer for question 1: \n",
    "\n",
    "SNOMED-CT top level hierarchy definitions where information can be encoded are: \n",
    "    1. Clinical finding - This term covers the outcomes of a clinical assessment, test, or assessment, as well as usual and abnormal health states. Diagnostic principles can be found in the clinical results hierarchy.\n",
    "    2. Procedural - This refers to procedures in the area of health care delivery. This includes not only invasive treatments, but also patient management, imaging, education, counselling, and administrative processes.\n",
    "    3. Body structure - Represents physical features that are both natural and irregular.\n",
    "    4. Organism - This term refers to organisms that are important in human and animal medicine. \n",
    "    5. SNOMED CT Model Component - This component provides technical metadata to facilitate the SNOMED CT release. \n",
    "    6. Physical substance - Both natural and man-made objects. \n",
    "    7. Physical force - Represents physical forces that can serve as damage mechanisms.\n",
    "\n",
    "2.   Answer for question 2: \n",
    "\n",
    "Controlled terminologies are meant to act as standards for maintaining clear and accurate contact among a user community. However, discordant coding is not unusual in practice, and it is becoming important to decide whether or not checked terminologies reliably produce coded results. This is particularly valid for terminologies that are comparatively abstract, such as SNOMED CT (SCT). Variations in coding can occur at any time.People with varying interests or training may use the same terminology to code the same terms in different ways; instead, they may use the same terminology to code multiple facets of the same phenomenon; and finally, different terminologies may be used to code the same or different features of the phenomenon. It is commonly accepted that bridging such gaps is a key issue in the collection of knowledge\n",
    "\n",
    "3.   Answer for question 3: \n",
    "\n",
    "    ---> SNOMED CT Diagram: A diagram represents a text that defines the context of a word, sentence, or association between expressions in SNOMED CT. It provides a simple, visual style to the text which reduces the number with different presentations with ambiguities and misunderstandings. Improve diagram accuracy by using a consistent approach that takes into account all relevant variables.\n",
    "\n",
    "    ---> SNOMED CT Expressions: There are two kinds of clinical phrases that use SNOMED CT concepts: precoordinated phrases with a single SNOMED CT term identifier and post coordinated phrases with multiple SNOMED CT identifications. SNOMED CT aid, a post-coordination method, allows for the portrayal of additional clinical data where necessary.In postcoordination, the accuracy that SNOMED CT can reflect without having to include all possible particular locations for any future disease across a word is dramatically enhanced. SNOMED CT expressions are a generic, logical variation of one or more word identifiers for the representation of a clinical definition.The compositional grammar of the SNOMED CT, which is a lightweight syntax of SNOMED CT expressions, expresses expressions. Pre-coordinated terms are terms that reflect the meaning of various meanings that have been predefined in SNOMED CT. \n",
    "\n",
    "    ---> Reference sets: A collection of references is a modular standard approach that aids in SNOMED CT customization and specification enhancement. This includes subset representation, vocabulary preferences for using certain terms, and mapping from and to other code structures.\n",
    "\n",
    "4.   Answer for question 4:\n",
    "\n",
    "SNOMED-CT has the following advantages: \n",
    "    1. The CSIRO Ontoserver-supported terminology registry.\n",
    "    2. Officially endorsed as an NCTS content medium. \n",
    "    3. New content can be added with a quick turnaround time. \n",
    "    4. The use of international content is based on the SNOMED CT international standard, which is recognized by several nations. \n",
    "    5. ADHA/NCTS wellness terms team management content. \n",
    "\n",
    "SNOMED-CT has the following disadvantages: \n",
    "    1. Native adoption problem – supported by the use of FHIR and NCTS \n",
    "    2. Learning medicinal jargon takes time and maturity.\n",
    "\n",
    "\n"
   ],
   "cell_type": "markdown",
   "metadata": {
    "id": "f9IQu1LA6bnc"
   }
  },
  {
   "cell_type": "markdown",
   "metadata": {
    "id": "RpYVioVlMC_K"
   },
   "source": [
    "---\n",
    "---\n",
    "# PyMedTermino - Medical Terminologies for Python\n",
    "---\n",
    "\n",
    "---\n",
    "\n",
    "\n",
    "  [PyMedTermino](https://pythonhosted.org/PyMedTermino/tuto_en.html) is a Python module for easy access to the main medical terminologies such us snomed ct, icd10, etc. Snomed ct data are not included (because they are not freely redistribuable) but they can be downloaded for free in XML format, for academic purposes. Please carefully follow all installation procedures which are clearly explained [here](https://pythonhosted.org/PyMedTermino/tuto_en.html#installation). The application request to have access to snomed data usually takes less than 24 hours but it can take maximum 3 days. \n",
    "\n",
    "*   Obtain the snomed ct terminology’s first level concepts (i.e. the root concepts). Use the [first_levels()](https://pythonhosted.org/PyMedTermino/tuto_en.html#iterating-over-snomed-ct) method.\n",
    "\n",
    "*    Search snomed ct database by using [code search](https://pythonhosted.org/PyMedTermino/tuto_en.html#concepts) (codes can be taken from snomed ct browser); [full-text search](https://pythonhosted.org/PyMedTermino/tuto_en.html#full-text-search) (for a medical problem of your choice).\n",
    "\n",
    "*   Explore the [is-a relations: parent and child concepts](https://pythonhosted.org/PyMedTermino/tuto_en.html#is-a-relations-parent-and-child-concepts)\n",
    "\n",
    "We recommand that all of you explore the library suggested but however this part of the practical, is not gradable as the database creation requires a few gb of memory. Another option to explore snomed ct using Python can be found [here](https://github.com/IHTSDO/SNOMED-in-5-minutes/blob/master/python3-examples/examples.py) in case any of you would like to explore this more. \n",
    "\n",
    "---\n",
    "---\n"
   ]
  },
  {
   "cell_type": "code",
   "execution_count": null,
   "metadata": {
    "id": "pA0Ze_oN7laJ"
   },
   "outputs": [],
   "source": [
    "#Obtain the snomed ct terminology’s first level concepts (i.e. the root concepts). Use the first_levels() method.\n",
    "\n",
    "#Search snomed ct database by using codes (codes can be taken from snomed ct browser).\n",
    "\n",
    "#Search snomed ct database by using full-text search (for a medical problem of your choice).\n",
    "\n",
    "#Explore the is-a relations: parent and child concepts\n",
    "\n",
    "#Explore SNOMED-in-5-minutes\n"
   ]
  }
 ],
 "metadata": {
  "colab": {
   "collapsed_sections": [],
   "name": "Practical session 4.ipynb",
   "provenance": []
  },
  "kernelspec": {
   "name": "python385jvsc74a57bd0082e9a3bcad0a290d0001e938aa60b99250c6c2ef33a923c00b70f9826caf4b7",
   "display_name": "Python 3.8.5 64-bit"
  },
  "language_info": {
   "codemirror_mode": {
    "name": "ipython",
    "version": 3
   },
   "file_extension": ".py",
   "mimetype": "text/x-python",
   "name": "python",
   "nbconvert_exporter": "python",
   "pygments_lexer": "ipython3",
   "version": "3.8.5"
  }
 },
 "nbformat": 4,
 "nbformat_minor": 1
}